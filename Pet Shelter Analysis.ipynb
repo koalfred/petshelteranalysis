{
 "cells": [
  {
   "cell_type": "code",
   "execution_count": 91,
   "id": "93b696da",
   "metadata": {},
   "outputs": [
    {
     "data": {
      "text/plain": [
       "breed\n",
       "Domestic Shorthair Mix      23821\n",
       "Pit Bull Mix                 6361\n",
       "Chihuahua Shorthair Mix      4874\n",
       "Labrador Retriever Mix       4849\n",
       "Domestic Medium Hair Mix     2368\n",
       "Name: count, dtype: int64"
      ]
     },
     "execution_count": 91,
     "metadata": {},
     "output_type": "execute_result"
    }
   ],
   "source": [
    "import pandas as pd\n",
    "\n",
    "intakes = pd.read_csv(\"aac_intakes.csv/aac_intakes.csv\")\n",
    "intakes_and_outcomes = pd.read_csv(\"aac_intakes_outcomes.csv/aac_intakes_outcomes.csv\")\n",
    "outcomes = pd.read_csv(\"aac_outcomes.csv/aac_outcomes.csv\")\n",
    "\n",
    "# -----QUESTION 1-----\n",
    "\n",
    "# Is there an area where more pets are found?\n",
    "\n",
    "# The code below tells you where the 5 most common locations of found pets are, along with the number of pets found in their respective locations.\n",
    "# intakes.found_location.value_counts().head()\n",
    "\n",
    "# Answer: Yes, the top 5 places where the most pets were found were, list in descending order of pets found from highest to lowest, in Austin (TX) (14443), outside jurisdiction (948), Travis (TX) (921), 7201 Levander Loop in Austin (TX) (517) and Del Valle (TX) (411).\n",
    "\n",
    "# -----QUESTION 2-----\n",
    "\n",
    "# What is the average number of pets found in a month in the year 2015?\n",
    "\n",
    "# This is how I calculated my working, in which the code tells you how many \n",
    "# intakes_and_outcomes[intakes_and_outcomes['intake_year'] == 2015].intake_number.mean()\n",
    "\n",
    "# Answer: The average number of pets found in a month in the year 2015 was 1 pet (1.14).\n",
    "\n",
    "# -----QUESTION 3-----\n",
    "\n",
    "# Are there months where there is a higher number of animals found?\n",
    "\n",
    "# This is how I calculated my working.\n",
    "\n",
    "# The code below lists the top 5 most common months where the most pets are found, along with the number of pets found for the respective months.\n",
    "# intakes_and_outcomes.intake_month.value_counts().head()\n",
    "\n",
    "# Answer: Yes, the top 5 months where the highest number of animals are found are, in descending order from highest to lowest, May (7966), October (7652), June (7459), March (6613) and November (6597).\n",
    "\n",
    "# -----QUESTION 4-----\n",
    "\n",
    "# What is the ratio of incoming pets vs. adopted pets?\n",
    "\n",
    "# len(intakes)\n",
    "# len(outcomes[outcomes['outcome_type']=='Adoption'])\n",
    "\n",
    "# Answer: \n",
    "# Ratio = Number of intakes / Adopted pets = 80187/34232\n",
    "# Ratio = 23.61\n",
    "\n",
    "# -----QUESTION 5-----\n",
    "\n",
    "# What is the distribution of the types of animals in the shelter?\n",
    "\n",
    "# This is how I calculated my working.\n",
    "\n",
    "# The code below lists the different animal types, along with their respective numbers.\n",
    "# intakes.animal_type.value_counts()\n",
    "\n",
    "# Answer: The shelter demographic consists of 45743 dogs, 29659 cats, 342 birds and 9 livestock, while 4434 of the pets are of different types of animals.\n",
    "\n",
    "# -----QUESTION 6-----\n",
    "\n",
    "# What are the adoption rates for specific breeds?\n",
    "\n",
    "# outcomes[outcomes['outcome_type']=='Adoption'].breed.value_counts().head()\n",
    "# The top 5 most adopted pets are, in order of breed from most adopted to least adopted are Domestic Shorthair Mixes (10129), Labrador Retriever Mixes (2404), Pit Bull Mixes (2382), Chihuahua Shorthair Mixes (2293) and Domestic Medium Hair Mixes (1067).\n",
    "\n",
    "# len(outcomes[outcomes['breed']=='Domestic Shorthair Mix'])\n",
    "# The number of Domestic Shorthair Mixes is 23821. Hence the adoption rate is: 10129/23821 = 42.52%.\n",
    "# The adoption rate for Domestic Shorthair Mixes is 42.52%.\n",
    "\n",
    "# len(outcomes[outcomes['breed']=='Labrador Retriever Mix'])\n",
    "# The number of Labrador Retriever Mixes is 4849. Hence the adoption rate is 2404/4849 = 49.58%.\n",
    "# The adoption rate for Labrador Retriever Mixes is 49.58%.\n",
    "\n",
    "# len(outcomes[outcomes['breed']=='Pit Bull Mix'])\n",
    "# The number of Pit Bull Mixes is 6361. Hence the adoption rate is 2382/6361 = 37.45%.\n",
    "# The adoption rate for Pit Bull Mixes is 37.45%.\n",
    "\n",
    "# len(outcomes[outcomes['breed']=='Chihuahua Shorthair Mix'])\n",
    "# The number of Chihuahua Shorthair Mixes is 4874. Hence the adoption rate is 2293/4874 = 47.05%.\n",
    "# The adoption rate for Chihuahua Shorthair Mixes is 47.05%.\n",
    "\n",
    "# len(outcomes[outcomes['breed']=='Domestic Medium Hair Mix'])\n",
    "# The number of Domestic Medium Hair Mixes is 2368. Hence the adoption rate is 1067/2368 =  45.06%.\n",
    "# The adoption rate for Domestic Medium Hair Mixes is 45.06%."
   ]
  },
  {
   "cell_type": "code",
   "execution_count": 84,
   "id": "7303694f",
   "metadata": {},
   "outputs": [],
   "source": [
    "# -----QUESTION 7-----\n",
    "\n",
    "# What are the adoption rates for different colorings?\n",
    "\n",
    "# Answer:\n",
    "\n",
    "# outcomes[outcomes['outcome_type']=='Adoption'].color.value_counts().head()\n",
    "# The top 5 coloring of animals in the shelter are Black/White (3814), Black (2757), Brown Tabby (1914), Brown (1179), White (1135).\n",
    "\n",
    "# len(outcomes[outcomes['color']=='Black/White'])\n",
    "# The number of animals colored Black/White is 8396. Hence the adoption rate is 3814/8396 = 45.43%\n",
    "# The adoption rate for animals colored Black/White is 45.43%.\n",
    "\n",
    "# len(outcomes[outcomes['color']=='Black'])\n",
    "# The number of animals colored Black is 6780. Hence the adoption rate is 2757/6780 = 40.66%.\n",
    "# The adoption rate for animals colored Black is 40.66%.\n",
    "\n",
    "# len(outcomes[outcomes['color']=='Brown Tabby'])\n",
    "# The number of animals colored Brown Tabby is 4531. Hence the adoption rate is 1914/4531 = 42.24%\n",
    "# The adoption rate for animals colored Brown Tabby is 42.24%.\n",
    "\n",
    "# len(outcomes[outcomes['color']=='Brown'])\n",
    "# The number of animals colored Brown is 3621. Hence the adoption rate is 1179/3621 = 32.56%\n",
    "# The adoption rate for animals colored Brown is 32.56%.\n",
    "\n",
    "# len(outcomes[outcomes['color']=='White'])\n",
    "# The number of animals colored White is 2865. Hence the adoption rate is 1135/2865 = 39.62%.\n",
    "# The adoption rate for animals colored White is 39.62%."
   ]
  },
  {
   "cell_type": "code",
   "execution_count": 137,
   "id": "6fec4c0d",
   "metadata": {},
   "outputs": [
    {
     "data": {
      "text/plain": [
       "79672"
      ]
     },
     "execution_count": 137,
     "metadata": {},
     "output_type": "execute_result"
    }
   ],
   "source": [
    "# -----QUESTION 8-----\n",
    "\n",
    "# About how many animals are spayed/neutered each month?\n",
    "# len(intakes_and_outcomes['sex_upon_outcome']=='Neutered Male')\n",
    "# len(intakes_and_outcomes['sex_upon_outcome']=='Spayed Female')\n",
    "# The number of animals that are spayed/neutered are 79672.\n",
    "\n",
    "# Number of animals spayed/neutered in a month = 79672/12 = 6414.33\n",
    "# Answer: 6414 animals"
   ]
  },
  {
   "cell_type": "code",
   "execution_count": null,
   "id": "90800cd9",
   "metadata": {},
   "outputs": [],
   "source": [
    "# -----QUESTION 9-----\n",
    "\n",
    "# How many animals in the shelter are repeats? Which animal was returned to the shelter the most?"
   ]
  },
  {
   "cell_type": "code",
   "execution_count": null,
   "id": "0cf4f6c3",
   "metadata": {},
   "outputs": [],
   "source": [
    "# -----QUESTION 10-----\n",
    "\n",
    "# What are the adoption rates for the following age groups?” is answered\n",
    "# The answer includes the following categories\n",
    "# baby: 4 months and less\n",
    "# young: 5 months - 2 years\n",
    "# adult: 3 years - 10 years\n",
    "# senior: 11+"
   ]
  },
  {
   "cell_type": "code",
   "execution_count": null,
   "id": "cf47f896",
   "metadata": {},
   "outputs": [],
   "source": [
    "# -----QUESTION 11-----\n",
    "\n",
    "# If spay/neuter for a dog costs $100 and a spay/neuter for a cat costs $50, how much did the shelter spend in 2015 on these procedures?"
   ]
  }
 ],
 "metadata": {
  "kernelspec": {
   "display_name": "Python 3 (ipykernel)",
   "language": "python",
   "name": "python3"
  },
  "language_info": {
   "codemirror_mode": {
    "name": "ipython",
    "version": 3
   },
   "file_extension": ".py",
   "mimetype": "text/x-python",
   "name": "python",
   "nbconvert_exporter": "python",
   "pygments_lexer": "ipython3",
   "version": "3.11.3"
  }
 },
 "nbformat": 4,
 "nbformat_minor": 5
}
