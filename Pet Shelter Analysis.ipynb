{
 "cells": [
  {
   "cell_type": "code",
   "execution_count": 35,
   "id": "1e7655b8",
   "metadata": {},
   "outputs": [],
   "source": [
    "import pandas as pd\n",
    "\n",
    "intakes = pd.read_csv(\"aac_intakes.csv/aac_intakes.csv\")\n",
    "intakes_and_outcomes = pd.read_csv(\"aac_intakes_outcomes.csv/aac_intakes_outcomes.csv\")\n",
    "outcomes = pd.read_csv(\"aac_outcomes.csv/aac_outcomes.csv\")"
   ]
  },
  {
   "cell_type": "markdown",
   "id": "4153fd72",
   "metadata": {},
   "source": [
    "Answers with decimals have been rounded to 2 decimal places."
   ]
  },
  {
   "cell_type": "markdown",
   "id": "678834a5",
   "metadata": {},
   "source": [
    "## QUESTION 1\n",
    "\n",
    "Is there an area where more pets are found?\n",
    "\n",
    "The code below tells you where the 5 most common locations of found pets are, along with the number of pets found in their respective locations."
   ]
  },
  {
   "cell_type": "code",
   "execution_count": 36,
   "id": "5cb86447",
   "metadata": {},
   "outputs": [
    {
     "name": "stdout",
     "output_type": "stream",
     "text": [
      "found_location\n",
      "Austin (TX)                          14443\n",
      "Outside Jurisdiction                   948\n",
      "Travis (TX)                            921\n",
      "7201 Levander Loop in Austin (TX)      517\n",
      "Del Valle (TX)                         411\n",
      "Pflugerville (TX)                      372\n",
      "Name: count, dtype: int64\n"
     ]
    }
   ],
   "source": [
    "print(intakes.found_location.value_counts().head(6))"
   ]
  },
  {
   "cell_type": "markdown",
   "id": "6bbc1dc9",
   "metadata": {},
   "source": [
    "Answer: \n",
    "Yes, the top 5 places where the most pets were found were, list in descending order of pets found from highest to lowest, outside jurisdiction (948), Travis (TX) (921), 7201 Levander Loop in Austin (TX) (517), Del Valle (TX) (411) and Pflugerville (TX) (372)."
   ]
  },
  {
   "cell_type": "markdown",
   "id": "a3af948a",
   "metadata": {},
   "source": [
    "## QUESTION 2\n",
    "\n",
    "What is the average number of pets found in a month in the year 2015?\n",
    "\n",
    "This is how I calculated my working, in which the code tells you the mean number of pets found in a month."
   ]
  },
  {
   "cell_type": "code",
   "execution_count": 37,
   "id": "31888ed6",
   "metadata": {},
   "outputs": [
    {
     "name": "stdout",
     "output_type": "stream",
     "text": [
      "1.1407561901705974\n"
     ]
    }
   ],
   "source": [
    "print(intakes_and_outcomes[intakes_and_outcomes['intake_year'] == 2015].intake_number.mean())"
   ]
  },
  {
   "cell_type": "markdown",
   "id": "ba8a1c79",
   "metadata": {},
   "source": [
    "Answer: The average number of pets found in a month in the year 2015 was 1 pet (1.14)."
   ]
  },
  {
   "cell_type": "markdown",
   "id": "a10f3e90",
   "metadata": {},
   "source": [
    "## QUESTION 3\n",
    "\n",
    "Are there months where there is a higher number of animals found?\n",
    "\n",
    "The code below lists the top 5 most common months where the most pets are found, along with the number of pets found for the respective months."
   ]
  },
  {
   "cell_type": "code",
   "execution_count": 38,
   "id": "2153b188",
   "metadata": {},
   "outputs": [
    {
     "name": "stdout",
     "output_type": "stream",
     "text": [
      "intake_month\n",
      "5     7966\n",
      "10    7652\n",
      "6     7459\n",
      "3     6613\n",
      "11    6597\n",
      "Name: count, dtype: int64\n"
     ]
    }
   ],
   "source": [
    "print(intakes_and_outcomes.intake_month.value_counts().head())"
   ]
  },
  {
   "cell_type": "markdown",
   "id": "85d7cf48",
   "metadata": {},
   "source": [
    "Answer: Yes, the top 5 months where the highest number of animals are found are, in descending order from highest to lowest, May (7966), October (7652), June (7459), March (6613) and November (6597)."
   ]
  },
  {
   "cell_type": "markdown",
   "id": "a97d377d",
   "metadata": {},
   "source": [
    "## QUESTION 4\n",
    "\n",
    "What is the ratio of incoming pets vs. adopted pets?\n",
    "\n",
    "Please find my working below, in which the number of intakes and adopted pets are printed out respectively."
   ]
  },
  {
   "cell_type": "code",
   "execution_count": 56,
   "id": "d5dd8d49",
   "metadata": {
    "scrolled": true
   },
   "outputs": [
    {
     "name": "stdout",
     "output_type": "stream",
     "text": [
      "80187\n",
      "34232\n"
     ]
    }
   ],
   "source": [
    "print(len(intakes))\n",
    "print(len(outcomes[outcomes['outcome_type']=='Adoption']))"
   ]
  },
  {
   "cell_type": "markdown",
   "id": "cfd6b4d2",
   "metadata": {},
   "source": [
    "Answer: \n",
    "\n",
    "Ratio = Number of intakes / Adopted pets = 80187/34232 = 2.34\n",
    "\n",
    "For every 2 intakes, 1 pet is adopted."
   ]
  },
  {
   "cell_type": "markdown",
   "id": "bbbdebed",
   "metadata": {},
   "source": [
    "## QUESTION 5\n",
    "\n",
    "What is the distribution of the types of animals in the shelter?\n",
    "\n",
    "The code below lists the different animal types, along with their respective numbers."
   ]
  },
  {
   "cell_type": "code",
   "execution_count": 75,
   "id": "5279dd20",
   "metadata": {},
   "outputs": [
    {
     "name": "stdout",
     "output_type": "stream",
     "text": [
      "animal_type\n",
      "Dog          45743\n",
      "Cat          29659\n",
      "Other         4434\n",
      "Bird           342\n",
      "Livestock        9\n",
      "Name: count, dtype: int64\n"
     ]
    }
   ],
   "source": [
    "print(intakes.animal_type.value_counts())"
   ]
  },
  {
   "cell_type": "markdown",
   "id": "4a93d257",
   "metadata": {},
   "source": [
    "Answer: The shelter demographic consists of 45743 dogs, 29659 cats, 342 birds and 9 livestock, while 4434 of the pets are of different types of animals."
   ]
  },
  {
   "cell_type": "markdown",
   "id": "04050686",
   "metadata": {},
   "source": [
    "## QUESTION 6\n",
    "\n",
    "What are the adoption rates for specific breeds?\n",
    "\n",
    "Answer:\n",
    "\n",
    "Below is the code which shows the 5 most adopted pets."
   ]
  },
  {
   "cell_type": "code",
   "execution_count": 76,
   "id": "21890013",
   "metadata": {},
   "outputs": [
    {
     "name": "stdout",
     "output_type": "stream",
     "text": [
      "breed\n",
      "Domestic Shorthair Mix      10129\n",
      "Labrador Retriever Mix       2404\n",
      "Pit Bull Mix                 2382\n",
      "Chihuahua Shorthair Mix      2293\n",
      "Domestic Medium Hair Mix     1067\n",
      "Name: count, dtype: int64\n"
     ]
    }
   ],
   "source": [
    "print(outcomes[outcomes['outcome_type']=='Adoption'].breed.value_counts().head())"
   ]
  },
  {
   "cell_type": "markdown",
   "id": "3668749c",
   "metadata": {},
   "source": [
    "The top 5 most adopted pets are, in order of breed from most adopted to least adopted are Domestic Shorthair Mixes (10129), Labrador Retriever Mixes (2404), Pit Bull Mixes (2382), Chihuahua Shorthair Mixes (2293) and Domestic Medium Hair Mixes (1067)."
   ]
  },
  {
   "cell_type": "markdown",
   "id": "a0351047",
   "metadata": {},
   "source": [
    "Number of Domestic Shorthair Mixes:"
   ]
  },
  {
   "cell_type": "code",
   "execution_count": 77,
   "id": "e76f441c",
   "metadata": {},
   "outputs": [
    {
     "name": "stdout",
     "output_type": "stream",
     "text": [
      "23821\n"
     ]
    }
   ],
   "source": [
    "print(len(outcomes[outcomes['breed']=='Domestic Shorthair Mix']))"
   ]
  },
  {
   "cell_type": "markdown",
   "id": "70b01a2a",
   "metadata": {},
   "source": [
    "The number of Domestic Shorthair Mixes is 23821. Hence the adoption rate is: 10129/23821 = 42.52%.\n",
    "The adoption rate for Domestic Shorthair Mixes is 42.52%."
   ]
  },
  {
   "cell_type": "markdown",
   "id": "63277cc3",
   "metadata": {},
   "source": [
    "Number of Labrador Retriever Mixes:"
   ]
  },
  {
   "cell_type": "code",
   "execution_count": 78,
   "id": "f45786d1",
   "metadata": {},
   "outputs": [
    {
     "name": "stdout",
     "output_type": "stream",
     "text": [
      "4849\n"
     ]
    }
   ],
   "source": [
    "print(len(outcomes[outcomes['breed']=='Labrador Retriever Mix']))"
   ]
  },
  {
   "cell_type": "markdown",
   "id": "8725bcdc",
   "metadata": {},
   "source": [
    "The number of Labrador Retriever Mixes is 4849. Hence the adoption rate is 2404/4849 = 49.58%.\n",
    "The adoption rate for Labrador Retriever Mixes is 49.58%."
   ]
  },
  {
   "cell_type": "markdown",
   "id": "030fc647",
   "metadata": {},
   "source": [
    "Number of Pit Bull Mixes:"
   ]
  },
  {
   "cell_type": "code",
   "execution_count": 79,
   "id": "d0a39c22",
   "metadata": {},
   "outputs": [
    {
     "name": "stdout",
     "output_type": "stream",
     "text": [
      "6361\n"
     ]
    }
   ],
   "source": [
    "print(len(outcomes[outcomes['breed']=='Pit Bull Mix']))"
   ]
  },
  {
   "cell_type": "markdown",
   "id": "3ce47a5c",
   "metadata": {},
   "source": [
    "The number of Pit Bull Mixes is 6361. Hence the adoption rate is 2382/6361 = 37.45%.\n",
    "The adoption rate for Pit Bull Mixes is 37.45%."
   ]
  },
  {
   "cell_type": "markdown",
   "id": "24638a14",
   "metadata": {},
   "source": [
    "Number of Chihuahua Shorthair Mixes:"
   ]
  },
  {
   "cell_type": "code",
   "execution_count": 80,
   "id": "52ca8f10",
   "metadata": {},
   "outputs": [
    {
     "name": "stdout",
     "output_type": "stream",
     "text": [
      "4874\n"
     ]
    }
   ],
   "source": [
    "print(len(outcomes[outcomes['breed']=='Chihuahua Shorthair Mix']))"
   ]
  },
  {
   "cell_type": "markdown",
   "id": "d4e47d09",
   "metadata": {},
   "source": [
    "The number of Chihuahua Shorthair Mixes is 4874. Hence the adoption rate is 2293/4874 = 47.05%.\n",
    "The adoption rate for Chihuahua Shorthair Mixes is 47.05%."
   ]
  },
  {
   "cell_type": "markdown",
   "id": "c6ea58c2",
   "metadata": {},
   "source": [
    "Number of Domestic Medium Hair Mixes:"
   ]
  },
  {
   "cell_type": "code",
   "execution_count": 81,
   "id": "92d038a6",
   "metadata": {},
   "outputs": [
    {
     "name": "stdout",
     "output_type": "stream",
     "text": [
      "2368\n"
     ]
    }
   ],
   "source": [
    "print(len(outcomes[outcomes['breed']=='Domestic Medium Hair Mix']))"
   ]
  },
  {
   "cell_type": "markdown",
   "id": "ae2864c0",
   "metadata": {},
   "source": [
    "The number of Domestic Medium Hair Mixes is 2368. Hence the adoption rate is 1067/2368 =  45.06%.\n",
    "The adoption rate for Domestic Medium Hair Mixes is 45.06%."
   ]
  },
  {
   "cell_type": "markdown",
   "id": "461ecf3e",
   "metadata": {},
   "source": [
    "## QUESTION 7\n",
    "What are the adoption rates for different colorings?\n",
    "\n",
    "Answer:"
   ]
  },
  {
   "cell_type": "markdown",
   "id": "16942612",
   "metadata": {},
   "source": [
    "The top 5 coloring of animals:"
   ]
  },
  {
   "cell_type": "code",
   "execution_count": 82,
   "id": "a5e3b824",
   "metadata": {},
   "outputs": [
    {
     "name": "stdout",
     "output_type": "stream",
     "text": [
      "color\n",
      "Black/White    3814\n",
      "Black          2757\n",
      "Brown Tabby    1914\n",
      "Tan/White      1179\n",
      "Brown/White    1135\n",
      "Name: count, dtype: int64\n"
     ]
    }
   ],
   "source": [
    "print(outcomes[outcomes['outcome_type']=='Adoption'].color.value_counts().head())"
   ]
  },
  {
   "cell_type": "markdown",
   "id": "0bac7af0",
   "metadata": {},
   "source": [
    "The top 5 coloring of animals in the shelter are Black/White (3814), Black (2757), Brown Tabby (1914), Brown (1179), White (1135)."
   ]
  },
  {
   "cell_type": "markdown",
   "id": "105fa413",
   "metadata": {},
   "source": [
    "Number of animals colored Black/White:"
   ]
  },
  {
   "cell_type": "code",
   "execution_count": 83,
   "id": "0daa0a07",
   "metadata": {},
   "outputs": [
    {
     "name": "stdout",
     "output_type": "stream",
     "text": [
      "8396\n"
     ]
    }
   ],
   "source": [
    "print(len(outcomes[outcomes['color']=='Black/White']))"
   ]
  },
  {
   "cell_type": "markdown",
   "id": "7744b22f",
   "metadata": {},
   "source": [
    "The number of animals colored Black/White is 8396. Hence the adoption rate is 3814/8396 = 45.43%\n",
    "The adoption rate for animals colored Black/White is 45.43%."
   ]
  },
  {
   "cell_type": "markdown",
   "id": "b39d7cb1",
   "metadata": {},
   "source": [
    "Number of animals colored Black:"
   ]
  },
  {
   "cell_type": "code",
   "execution_count": 84,
   "id": "740a5eae",
   "metadata": {},
   "outputs": [
    {
     "name": "stdout",
     "output_type": "stream",
     "text": [
      "6780\n"
     ]
    }
   ],
   "source": [
    "print(len(outcomes[outcomes['color']=='Black']))"
   ]
  },
  {
   "cell_type": "markdown",
   "id": "2018685c",
   "metadata": {},
   "source": [
    "The number of animals colored Black is 6780. Hence the adoption rate is 2757/6780 = 40.66%.\n",
    "The adoption rate for animals colored Black is 40.66%."
   ]
  },
  {
   "cell_type": "markdown",
   "id": "349cee23",
   "metadata": {},
   "source": [
    "Number of animals colored Brown Tabby:"
   ]
  },
  {
   "cell_type": "code",
   "execution_count": 85,
   "id": "1c4dbd83",
   "metadata": {},
   "outputs": [
    {
     "name": "stdout",
     "output_type": "stream",
     "text": [
      "4531\n"
     ]
    }
   ],
   "source": [
    "print(len(outcomes[outcomes['color']=='Brown Tabby']))"
   ]
  },
  {
   "cell_type": "markdown",
   "id": "8ae9ad01",
   "metadata": {},
   "source": [
    "The number of animals colored Brown Tabby is 4531. Hence the adoption rate is 1914/4531 = 42.24%\n",
    "The adoption rate for animals colored Brown Tabby is 42.24%."
   ]
  },
  {
   "cell_type": "markdown",
   "id": "e000ea98",
   "metadata": {},
   "source": [
    "Number of animals colored Brown:"
   ]
  },
  {
   "cell_type": "code",
   "execution_count": 86,
   "id": "0f715b7c",
   "metadata": {},
   "outputs": [
    {
     "name": "stdout",
     "output_type": "stream",
     "text": [
      "3621\n"
     ]
    }
   ],
   "source": [
    "print(len(outcomes[outcomes['color']=='Brown']))"
   ]
  },
  {
   "cell_type": "markdown",
   "id": "a7045dbb",
   "metadata": {},
   "source": [
    "The number of animals colored Brown is 3621. Hence the adoption rate is 1179/3621 = 32.56%\n",
    "The adoption rate for animals colored Brown is 32.56%."
   ]
  },
  {
   "cell_type": "markdown",
   "id": "c6cdc2b0",
   "metadata": {},
   "source": [
    "Number of animals colored White:"
   ]
  },
  {
   "cell_type": "code",
   "execution_count": 87,
   "id": "a19d551f",
   "metadata": {},
   "outputs": [
    {
     "name": "stdout",
     "output_type": "stream",
     "text": [
      "2865\n"
     ]
    }
   ],
   "source": [
    "print(len(outcomes[outcomes['color']=='White']))"
   ]
  },
  {
   "cell_type": "markdown",
   "id": "1043a2d5",
   "metadata": {},
   "source": [
    "The number of animals colored White is 2865. Hence the adoption rate is 1135/2865 = 39.62%.\n",
    "The adoption rate for animals colored White is 39.62%."
   ]
  },
  {
   "cell_type": "markdown",
   "id": "1e38e6ba",
   "metadata": {},
   "source": [
    "## QUESTION 8\n",
    "\n",
    "About how many animals are spayed/neutered each month?\n",
    "\n",
    "Below are the number of neutered male and spayed female animals respectively."
   ]
  },
  {
   "cell_type": "code",
   "execution_count": 88,
   "id": "23462728",
   "metadata": {},
   "outputs": [
    {
     "name": "stdout",
     "output_type": "stream",
     "text": [
      "79672\n",
      "79672\n"
     ]
    }
   ],
   "source": [
    "print(len(intakes_and_outcomes['sex_upon_outcome']=='Neutered Male'))\n",
    "print(len(intakes_and_outcomes['sex_upon_outcome']=='Spayed Female'))"
   ]
  },
  {
   "cell_type": "markdown",
   "id": "5ee6e928",
   "metadata": {},
   "source": [
    "The number of animals that are spayed/neutered are 79672.\n",
    "\n",
    "Number of animals spayed/neutered in a month = 79672/12 = 6414.33\n",
    "\n",
    "Answer: 6414 animals"
   ]
  }
 ],
 "metadata": {
  "kernelspec": {
   "display_name": "Python 3 (ipykernel)",
   "language": "python",
   "name": "python3"
  },
  "language_info": {
   "codemirror_mode": {
    "name": "ipython",
    "version": 3
   },
   "file_extension": ".py",
   "mimetype": "text/x-python",
   "name": "python",
   "nbconvert_exporter": "python",
   "pygments_lexer": "ipython3",
   "version": "3.11.3"
  }
 },
 "nbformat": 4,
 "nbformat_minor": 5
}
